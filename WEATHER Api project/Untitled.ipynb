{
 "cells": [
  {
   "cell_type": "code",
   "execution_count": 1,
   "id": "70df3c6a-5d4c-4964-9b01-829cc567eaf7",
   "metadata": {},
   "outputs": [
    {
     "name": "stdin",
     "output_type": "stream",
     "text": [
      "Enter city name:  Chandigarh\n"
     ]
    },
    {
     "name": "stdout",
     "output_type": "stream",
     "text": [
      "Weather in Chandigarh:\n",
      "Temperature: 17.48°C\n",
      "Humidity: 41%\n",
      "Wind Speed: 1.99 m/s\n"
     ]
    }
   ],
   "source": [
    "import requests\n",
    "def get_weather(city, api_key):\n",
    "    url = f\"http://api.openweathermap.org/data/2.5/weather?q={city}&appid={api_key}&units=metric\"\n",
    "    response = requests.get(url)\n",
    "    data = response.json()\n",
    "    return data\n",
    "def main():\n",
    "    city = input(\"Enter city name: \")\n",
    "    api_key = \"7806d5f1fccf96ad40db803b07101422\"\n",
    "\n",
    "    weather_data = get_weather(city, api_key)\n",
    "\n",
    "    if weather_data[\"cod\"] == 200:\n",
    "        print(f\"Weather in {city}:\")\n",
    "        print(f\"Temperature: {weather_data['main']['temp']}°C\")\n",
    "        print(f\"Humidity: {weather_data['main']['humidity']}%\")\n",
    "        print(f\"Wind Speed: {weather_data['wind']['speed']} m/s\")\n",
    "    else:\n",
    "        print(f\"Error: {weather_data['message']}\")\n",
    "\n",
    "main()\n"
   ]
  },
  {
   "cell_type": "code",
   "execution_count": null,
   "id": "f8c119f2-a19d-4ba0-a87b-e69f12a1f911",
   "metadata": {},
   "outputs": [],
   "source": []
  }
 ],
 "metadata": {
  "kernelspec": {
   "display_name": "Python 3 (ipykernel)",
   "language": "python",
   "name": "python3"
  },
  "language_info": {
   "codemirror_mode": {
    "name": "ipython",
    "version": 3
   },
   "file_extension": ".py",
   "mimetype": "text/x-python",
   "name": "python",
   "nbconvert_exporter": "python",
   "pygments_lexer": "ipython3",
   "version": "3.11.4"
  }
 },
 "nbformat": 4,
 "nbformat_minor": 5
}
